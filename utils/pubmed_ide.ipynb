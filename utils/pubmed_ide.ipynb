{
 "cells": [
  {
   "cell_type": "code",
   "execution_count": 1,
   "id": "fc9f81e6",
   "metadata": {},
   "outputs": [],
   "source": [
    "from Bio import Entrez"
   ]
  },
  {
   "cell_type": "code",
   "execution_count": null,
   "id": "6d708678",
   "metadata": {},
   "outputs": [],
   "source": [
    "x = \"\""
   ]
  },
  {
   "cell_type": "code",
   "execution_count": 2,
   "id": "016895ca",
   "metadata": {},
   "outputs": [],
   "source": [
    "def search(query):\n",
    "    Entrez.email = 'your.email@example.com'\n",
    "    handle = Entrez.esearch(db='pubmed',\n",
    "                            sort='relevance',\n",
    "                            retmax='20',\n",
    "                            retmode='xml',\n",
    "                            term=query)\n",
    "    results = Entrez.read(handle)\n",
    "    return results"
   ]
  },
  {
   "cell_type": "code",
   "execution_count": 3,
   "id": "5755e577",
   "metadata": {},
   "outputs": [
    {
     "data": {
      "text/plain": [
       "{'Count': '106485', 'RetMax': '20', 'RetStart': '0', 'IdList': ['35062274', '34419584', '34242582', '34082091', '35417711', '35410461', '35395730', '35346863', '35297660', '35278855', '35192358', '35166645', '35016590', '34895083', '35417684', '35394875', '35366796', '35297282', '35112714', '34985411'], 'TranslationSet': [{'From': 'HIV-1', 'To': '\"hiv-1\"[MeSH Terms] OR \"hiv-1\"[All Fields] OR \"hiv 1\"[All Fields]'}], 'TranslationStack': [{'Term': '\"hiv-1\"[MeSH Terms]', 'Field': 'MeSH Terms', 'Count': '82894', 'Explode': 'Y'}, {'Term': '\"hiv-1\"[All Fields]', 'Field': 'All Fields', 'Count': '106495', 'Explode': 'N'}, 'OR', {'Term': '\"hiv 1\"[All Fields]', 'Field': 'All Fields', 'Count': '106495', 'Explode': 'N'}, 'OR', 'GROUP'], 'QueryTranslation': '\"hiv-1\"[MeSH Terms] OR \"hiv-1\"[All Fields] OR \"hiv 1\"[All Fields]'}"
      ]
     },
     "execution_count": 3,
     "metadata": {},
     "output_type": "execute_result"
    }
   ],
   "source": [
    "search(\"HIV-1\")"
   ]
  },
  {
   "cell_type": "code",
   "execution_count": 4,
   "id": "2536cfea",
   "metadata": {},
   "outputs": [
    {
     "name": "stdout",
     "output_type": "stream",
     "text": [
      "Help on function esearch in module Bio.Entrez:\n",
      "\n",
      "esearch(db, term, **keywds)\n",
      "    Run an Entrez search and return a handle to the results.\n",
      "    \n",
      "    ESearch searches and retrieves primary IDs (for use in EFetch, ELink\n",
      "    and ESummary) and term translations, and optionally retains results\n",
      "    for future use in the user's environment.\n",
      "    \n",
      "    See the online documentation for an explanation of the parameters:\n",
      "    http://www.ncbi.nlm.nih.gov/books/NBK25499/#chapter4.ESearch\n",
      "    \n",
      "    Return a handle to the results which are always in XML format.\n",
      "    \n",
      "    Raises an IOError exception if there's a network error.\n",
      "    \n",
      "    Short example:\n",
      "    \n",
      "    >>> from Bio import Entrez\n",
      "    >>> Entrez.email = \"Your.Name.Here@example.org\"\n",
      "    >>> handle = Entrez.esearch(db=\"nucleotide\", retmax=10, term=\"opuntia[ORGN] accD\", idtype=\"acc\")\n",
      "    >>> record = Entrez.read(handle)\n",
      "    >>> handle.close()\n",
      "    >>> int(record[\"Count\"]) >= 2\n",
      "    True\n",
      "    >>> \"EF590893.1\" in record[\"IdList\"]\n",
      "    True\n",
      "    >>> \"EF590892.1\" in record[\"IdList\"]\n",
      "    True\n",
      "\n"
     ]
    }
   ],
   "source": [
    "help(Entrez.esearch)"
   ]
  },
  {
   "cell_type": "code",
   "execution_count": null,
   "id": "bff8575b",
   "metadata": {},
   "outputs": [],
   "source": []
  }
 ],
 "metadata": {
  "kernelspec": {
   "display_name": "Python 3",
   "language": "python",
   "name": "python3"
  },
  "language_info": {
   "codemirror_mode": {
    "name": "ipython",
    "version": 3
   },
   "file_extension": ".py",
   "mimetype": "text/x-python",
   "name": "python",
   "nbconvert_exporter": "python",
   "pygments_lexer": "ipython3",
   "version": "3.8.8"
  }
 },
 "nbformat": 4,
 "nbformat_minor": 5
}
